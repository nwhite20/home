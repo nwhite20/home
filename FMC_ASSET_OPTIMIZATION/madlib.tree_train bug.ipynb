{
 "cells": [
  {
   "cell_type": "code",
   "execution_count": 3,
   "metadata": {
    "collapsed": false
   },
   "outputs": [
    {
     "name": "stderr",
     "output_type": "stream",
     "text": [
      "C:\\Anaconda2\\lib\\site-packages\\pandas\\computation\\__init__.py:19: UserWarning: The installed version of numexpr 2.4.4 is not supported in pandas and will be not be used\n",
      "\n",
      "  UserWarning)\n"
     ]
    }
   ],
   "source": [
    "%run '00_database_connectivity_setup.ipynb'"
   ]
  },
  {
   "cell_type": "code",
   "execution_count": 4,
   "metadata": {
    "collapsed": false
   },
   "outputs": [],
   "source": [
    "%%execsql\n",
    "DROP TABLE IF EXISTS nate.dectree_output;\n",
    "DROP TABLE IF EXISTS nate.dectree_output_summary;"
   ]
  },
  {
   "cell_type": "markdown",
   "metadata": {},
   "source": [
    "The cell below shows the error - if any independent feature column is a boolean, this error appears - complains about syntax near the CASE WHEN statement because True has single quotes around it when it should not perhaps?"
   ]
  },
  {
   "cell_type": "code",
   "execution_count": 5,
   "metadata": {
    "collapsed": false,
    "scrolled": false
   },
   "outputs": [
    {
     "ename": "DatabaseError",
     "evalue": "Execution failed on sql 'SELECT madlib.tree_train('nate.prediction_input', 'nate.dectree_output', 'component', 'pctreplaced',\n'component_surface_matl', NULL::text, 'gini', NULL::text, NULL::text, 25, 3, 1, 15)': plpy.SPIError: syntax error at or near \"True\" (plpython.c:4648)\nLINE 3: ...         '(CASE WHEN component_surface_matl THEN 'True' ELSE...\n                                                             ^\nQUERY:  \n                SELECT\n                    '(CASE WHEN component_surface_matl THEN 'True' ELSE 'False' END)' AS colname,\n                    levels\n                FROM (\n                    SELECT\n                        '(CASE WHEN component_surface_matl THEN 'True' ELSE 'False' END)' AS colname,\n                        array_agg(levels ORDER BY dep_avg) AS levels\n                    FROM (\n                        SELECT\n                            ((CASE WHEN component_surface_matl THEN 'True' ELSE 'False' END))::text AS levels,\n                            AVG(pctreplaced) AS dep_avg\n                        FROM nate.prediction_input\n                        WHERE NOT madlib.array_contains_null(array[(case when component_surface_matl then 'True' else 'False' end)::text]) and (pctreplaced) is not NULL\n                            AND (CASE WHEN component_surface_matl THEN 'True' ELSE 'False' END) is not NULL\n                        GROUP BY (CASE WHEN component_surface_matl THEN 'True' ELSE 'False' END)\n                    ) s\n                ) s1\n                where array_upper(levels, 1) > 1\n                \nCONTEXT:  Traceback (most recent call last):\n  PL/Python function \"tree_train\", line 25, in <module>\n    surrogate_params, verbose_mode)\n  PL/Python function \"tree_train\", line 607, in tree_train\n  PL/Python function \"tree_train\", line 409, in _get_tree_states\n  PL/Python function \"tree_train\", line 820, in _get_bins\nPL/Python function \"tree_train\"\n",
     "output_type": "error",
     "traceback": [
      "\u001b[1;31m---------------------------------------------------------------------------\u001b[0m",
      "\u001b[1;31mDatabaseError\u001b[0m                             Traceback (most recent call last)",
      "\u001b[1;32m<ipython-input-5-853f32ae9fe6>\u001b[0m in \u001b[0;36m<module>\u001b[1;34m()\u001b[0m\n\u001b[1;32m----> 1\u001b[1;33m \u001b[0mget_ipython\u001b[0m\u001b[1;33m(\u001b[0m\u001b[1;33m)\u001b[0m\u001b[1;33m.\u001b[0m\u001b[0mrun_cell_magic\u001b[0m\u001b[1;33m(\u001b[0m\u001b[1;34mu'execsql'\u001b[0m\u001b[1;33m,\u001b[0m \u001b[1;34mu''\u001b[0m\u001b[1;33m,\u001b[0m \u001b[1;34mu\"SELECT madlib.tree_train('nate.prediction_input', 'nate.dectree_output', 'component', 'pctreplaced',\\n'component_surface_matl', NULL::text, 'gini', NULL::text, NULL::text, 25, 3, 1, 15)\"\u001b[0m\u001b[1;33m)\u001b[0m\u001b[1;33m\u001b[0m\u001b[0m\n\u001b[0m",
      "\u001b[1;32mC:\\Anaconda2\\lib\\site-packages\\IPython\\core\\interactiveshell.pyc\u001b[0m in \u001b[0;36mrun_cell_magic\u001b[1;34m(self, magic_name, line, cell)\u001b[0m\n\u001b[0;32m   2291\u001b[0m             \u001b[0mmagic_arg_s\u001b[0m \u001b[1;33m=\u001b[0m \u001b[0mself\u001b[0m\u001b[1;33m.\u001b[0m\u001b[0mvar_expand\u001b[0m\u001b[1;33m(\u001b[0m\u001b[0mline\u001b[0m\u001b[1;33m,\u001b[0m \u001b[0mstack_depth\u001b[0m\u001b[1;33m)\u001b[0m\u001b[1;33m\u001b[0m\u001b[0m\n\u001b[0;32m   2292\u001b[0m             \u001b[1;32mwith\u001b[0m \u001b[0mself\u001b[0m\u001b[1;33m.\u001b[0m\u001b[0mbuiltin_trap\u001b[0m\u001b[1;33m:\u001b[0m\u001b[1;33m\u001b[0m\u001b[0m\n\u001b[1;32m-> 2293\u001b[1;33m                 \u001b[0mresult\u001b[0m \u001b[1;33m=\u001b[0m \u001b[0mfn\u001b[0m\u001b[1;33m(\u001b[0m\u001b[0mmagic_arg_s\u001b[0m\u001b[1;33m,\u001b[0m \u001b[0mcell\u001b[0m\u001b[1;33m)\u001b[0m\u001b[1;33m\u001b[0m\u001b[0m\n\u001b[0m\u001b[0;32m   2294\u001b[0m             \u001b[1;32mreturn\u001b[0m \u001b[0mresult\u001b[0m\u001b[1;33m\u001b[0m\u001b[0m\n\u001b[0;32m   2295\u001b[0m \u001b[1;33m\u001b[0m\u001b[0m\n",
      "\u001b[1;32m<ipython-input-3-3a9d6d620e0e>\u001b[0m in \u001b[0;36mexecsql\u001b[1;34m(line, cell)\u001b[0m\n\u001b[0;32m     27\u001b[0m     \u001b[1;31m#Use the global connection object defined above.\u001b[0m\u001b[1;33m\u001b[0m\u001b[1;33m\u001b[0m\u001b[0m\n\u001b[0;32m     28\u001b[0m     \u001b[1;32mglobal\u001b[0m \u001b[0mconn\u001b[0m\u001b[1;33m\u001b[0m\u001b[0m\n\u001b[1;32m---> 29\u001b[1;33m     \u001b[0m_\u001b[0m \u001b[1;33m=\u001b[0m \u001b[0mpsql\u001b[0m\u001b[1;33m.\u001b[0m\u001b[0mexecute\u001b[0m\u001b[1;33m(\u001b[0m\u001b[0mcell\u001b[0m\u001b[1;33m,\u001b[0m \u001b[0mconn\u001b[0m\u001b[1;33m)\u001b[0m\u001b[1;33m\u001b[0m\u001b[0m\n\u001b[0m\u001b[0;32m     30\u001b[0m     \u001b[0mconn\u001b[0m\u001b[1;33m.\u001b[0m\u001b[0mcommit\u001b[0m\u001b[1;33m(\u001b[0m\u001b[1;33m)\u001b[0m\u001b[1;33m\u001b[0m\u001b[0m\n\u001b[0;32m     31\u001b[0m     \u001b[1;32mreturn\u001b[0m\u001b[1;33m\u001b[0m\u001b[0m\n",
      "\u001b[1;32mC:\\Anaconda2\\lib\\site-packages\\pandas\\io\\sql.pyc\u001b[0m in \u001b[0;36mexecute\u001b[1;34m(sql, con, cur, params)\u001b[0m\n\u001b[0;32m    170\u001b[0m         \u001b[0mpandas_sql\u001b[0m \u001b[1;33m=\u001b[0m \u001b[0mpandasSQL_builder\u001b[0m\u001b[1;33m(\u001b[0m\u001b[0mcur\u001b[0m\u001b[1;33m,\u001b[0m \u001b[0mis_cursor\u001b[0m\u001b[1;33m=\u001b[0m\u001b[0mTrue\u001b[0m\u001b[1;33m)\u001b[0m\u001b[1;33m\u001b[0m\u001b[0m\n\u001b[0;32m    171\u001b[0m     \u001b[0margs\u001b[0m \u001b[1;33m=\u001b[0m \u001b[0m_convert_params\u001b[0m\u001b[1;33m(\u001b[0m\u001b[0msql\u001b[0m\u001b[1;33m,\u001b[0m \u001b[0mparams\u001b[0m\u001b[1;33m)\u001b[0m\u001b[1;33m\u001b[0m\u001b[0m\n\u001b[1;32m--> 172\u001b[1;33m     \u001b[1;32mreturn\u001b[0m \u001b[0mpandas_sql\u001b[0m\u001b[1;33m.\u001b[0m\u001b[0mexecute\u001b[0m\u001b[1;33m(\u001b[0m\u001b[1;33m*\u001b[0m\u001b[0margs\u001b[0m\u001b[1;33m)\u001b[0m\u001b[1;33m\u001b[0m\u001b[0m\n\u001b[0m\u001b[0;32m    173\u001b[0m \u001b[1;33m\u001b[0m\u001b[0m\n\u001b[0;32m    174\u001b[0m \u001b[1;33m\u001b[0m\u001b[0m\n",
      "\u001b[1;32mC:\\Anaconda2\\lib\\site-packages\\pandas\\io\\sql.pyc\u001b[0m in \u001b[0;36mexecute\u001b[1;34m(self, *args, **kwargs)\u001b[0m\n\u001b[0;32m   1574\u001b[0m             ex = DatabaseError(\n\u001b[0;32m   1575\u001b[0m                 \"Execution failed on sql '%s': %s\" % (args[0], exc))\n\u001b[1;32m-> 1576\u001b[1;33m             \u001b[0mraise_with_traceback\u001b[0m\u001b[1;33m(\u001b[0m\u001b[0mex\u001b[0m\u001b[1;33m)\u001b[0m\u001b[1;33m\u001b[0m\u001b[0m\n\u001b[0m\u001b[0;32m   1577\u001b[0m \u001b[1;33m\u001b[0m\u001b[0m\n\u001b[0;32m   1578\u001b[0m     \u001b[1;33m@\u001b[0m\u001b[0mstaticmethod\u001b[0m\u001b[1;33m\u001b[0m\u001b[0m\n",
      "\u001b[1;32mC:\\Anaconda2\\lib\\site-packages\\pandas\\io\\sql.pyc\u001b[0m in \u001b[0;36mexecute\u001b[1;34m(self, *args, **kwargs)\u001b[0m\n\u001b[0;32m   1562\u001b[0m                 \u001b[0mcur\u001b[0m\u001b[1;33m.\u001b[0m\u001b[0mexecute\u001b[0m\u001b[1;33m(\u001b[0m\u001b[1;33m*\u001b[0m\u001b[0margs\u001b[0m\u001b[1;33m,\u001b[0m \u001b[1;33m**\u001b[0m\u001b[0mkwargs\u001b[0m\u001b[1;33m)\u001b[0m\u001b[1;33m\u001b[0m\u001b[0m\n\u001b[0;32m   1563\u001b[0m             \u001b[1;32melse\u001b[0m\u001b[1;33m:\u001b[0m\u001b[1;33m\u001b[0m\u001b[0m\n\u001b[1;32m-> 1564\u001b[1;33m                 \u001b[0mcur\u001b[0m\u001b[1;33m.\u001b[0m\u001b[0mexecute\u001b[0m\u001b[1;33m(\u001b[0m\u001b[1;33m*\u001b[0m\u001b[0margs\u001b[0m\u001b[1;33m)\u001b[0m\u001b[1;33m\u001b[0m\u001b[0m\n\u001b[0m\u001b[0;32m   1565\u001b[0m             \u001b[1;32mreturn\u001b[0m \u001b[0mcur\u001b[0m\u001b[1;33m\u001b[0m\u001b[0m\n\u001b[0;32m   1566\u001b[0m         \u001b[1;32mexcept\u001b[0m \u001b[0mException\u001b[0m \u001b[1;32mas\u001b[0m \u001b[0mexc\u001b[0m\u001b[1;33m:\u001b[0m\u001b[1;33m\u001b[0m\u001b[0m\n",
      "\u001b[1;31mDatabaseError\u001b[0m: Execution failed on sql 'SELECT madlib.tree_train('nate.prediction_input', 'nate.dectree_output', 'component', 'pctreplaced',\n'component_surface_matl', NULL::text, 'gini', NULL::text, NULL::text, 25, 3, 1, 15)': plpy.SPIError: syntax error at or near \"True\" (plpython.c:4648)\nLINE 3: ...         '(CASE WHEN component_surface_matl THEN 'True' ELSE...\n                                                             ^\nQUERY:  \n                SELECT\n                    '(CASE WHEN component_surface_matl THEN 'True' ELSE 'False' END)' AS colname,\n                    levels\n                FROM (\n                    SELECT\n                        '(CASE WHEN component_surface_matl THEN 'True' ELSE 'False' END)' AS colname,\n                        array_agg(levels ORDER BY dep_avg) AS levels\n                    FROM (\n                        SELECT\n                            ((CASE WHEN component_surface_matl THEN 'True' ELSE 'False' END))::text AS levels,\n                            AVG(pctreplaced) AS dep_avg\n                        FROM nate.prediction_input\n                        WHERE NOT madlib.array_contains_null(array[(case when component_surface_matl then 'True' else 'False' end)::text]) and (pctreplaced) is not NULL\n                            AND (CASE WHEN component_surface_matl THEN 'True' ELSE 'False' END) is not NULL\n                        GROUP BY (CASE WHEN component_surface_matl THEN 'True' ELSE 'False' END)\n                    ) s\n                ) s1\n                where array_upper(levels, 1) > 1\n                \nCONTEXT:  Traceback (most recent call last):\n  PL/Python function \"tree_train\", line 25, in <module>\n    surrogate_params, verbose_mode)\n  PL/Python function \"tree_train\", line 607, in tree_train\n  PL/Python function \"tree_train\", line 409, in _get_tree_states\n  PL/Python function \"tree_train\", line 820, in _get_bins\nPL/Python function \"tree_train\"\n"
     ]
    }
   ],
   "source": [
    "%%execsql\n",
    "SELECT madlib.tree_train('nate.prediction_input', 'nate.dectree_output', 'component', 'pctreplaced',\n",
    "'component_surface_matl', NULL::text, 'gini', NULL::text, NULL::text, 25, 3, 1, 15)"
   ]
  },
  {
   "cell_type": "markdown",
   "metadata": {},
   "source": [
    "Here is a similar statement that runs succesfully, because it does not have any boolean features."
   ]
  },
  {
   "cell_type": "code",
   "execution_count": 6,
   "metadata": {
    "collapsed": false
   },
   "outputs": [],
   "source": [
    "%%execsql\n",
    "SELECT madlib.tree_train('nate.prediction_input', 'nate.dectree_output', 'component', 'pctreplaced',\n",
    "'orders_replaced', NULL::text, 'gini', NULL::text, NULL::text, 25, 3, 1, 15)"
   ]
  },
  {
   "cell_type": "code",
   "execution_count": null,
   "metadata": {
    "collapsed": true
   },
   "outputs": [],
   "source": []
  }
 ],
 "metadata": {
  "kernelspec": {
   "display_name": "Python 2",
   "language": "python",
   "name": "python2"
  },
  "language_info": {
   "codemirror_mode": {
    "name": "ipython",
    "version": 2
   },
   "file_extension": ".py",
   "mimetype": "text/x-python",
   "name": "python",
   "nbconvert_exporter": "python",
   "pygments_lexer": "ipython2",
   "version": "2.7.11"
  }
 },
 "nbformat": 4,
 "nbformat_minor": 0
}
