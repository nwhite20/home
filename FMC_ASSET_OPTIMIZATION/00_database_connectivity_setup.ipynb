{
 "cells": [
  {
   "cell_type": "markdown",
   "metadata": {},
   "source": [
    "## Setting up database connectivity\n",
    "\n",
    "1. Create a file in your home directory containing the database credentials for your target environment. \n",
    "For example:\n",
    "```\n",
    "c:\\Users\\<yourlogin>\\.dslab_user.cred (for HAWQ)\n",
    "c:\\Users\\<yourlogin>\\.hana.cred (for HANA)\n",
    "```\n",
    "The content of this file should look like so (with appropriate values for HOSTNAME, PORT, USER, DATABASE & PASSWORD).\n",
    "```\n",
    "[database_creds]\n",
    "host: HOSTNAME\n",
    "port: PORT\n",
    "user: USER\n",
    "database: DATABASE\n",
    "password: PASSWORD\n",
    "```"
   ]
  },
  {
   "cell_type": "code",
   "execution_count": null,
   "metadata": {
    "collapsed": true
   },
   "outputs": [],
   "source": [
    "%matplotlib inline\n",
    "\n",
    "#setup environment\n",
    "import psycopg2\n",
    "import pandas as pd\n",
    "import pandas.io.sql as psql\n",
    "import ConfigParser\n",
    "import os\n",
    "import IPython\n",
    "import pyhdb\n",
    "from IPython.display import display\n",
    "from IPython.display import HTML\n",
    "#Maximum height of a result set\n",
    "pd.set_option('display.max_rows', 500)\n",
    "#Maximum number of rows to display in a cell.\n",
    "pd.set_option('display.max_columns', 200)\n",
    "#Show the full content of columns\n",
    "pd.set_option('display.max_colwidth', -1)"
   ]
  },
  {
   "cell_type": "markdown",
   "metadata": {},
   "source": [
    "## Creating database connections"
   ]
  },
  {
   "cell_type": "code",
   "execution_count": 29,
   "metadata": {
    "collapsed": false
   },
   "outputs": [
    {
     "ename": "OperationalError",
     "evalue": "FATAL:  no pg_hba.conf entry for host \"10.251.11.10\", user \"fmchawqapp\", database \"fmc_poc\", SSL on\nFATAL:  no pg_hba.conf entry for host \"10.251.11.10\", user \"fmchawqapp\", database \"fmc_poc\", SSL off\n",
     "output_type": "error",
     "traceback": [
      "\u001b[1;31m---------------------------------------------------------------------------\u001b[0m",
      "\u001b[1;31mOperationalError\u001b[0m                          Traceback (most recent call last)",
      "\u001b[1;32m<ipython-input-29-dda4a8e6334c>\u001b[0m in \u001b[0;36m<module>\u001b[1;34m()\u001b[0m\n\u001b[0;32m     26\u001b[0m     \u001b[1;32mreturn\u001b[0m \u001b[0mconn_str\u001b[0m\u001b[1;33m\u001b[0m\u001b[0m\n\u001b[0;32m     27\u001b[0m \u001b[1;33m\u001b[0m\u001b[0m\n\u001b[1;32m---> 28\u001b[1;33m \u001b[0mconn\u001b[0m \u001b[1;33m=\u001b[0m \u001b[0mpsycopg2\u001b[0m\u001b[1;33m.\u001b[0m\u001b[0mconnect\u001b[0m\u001b[1;33m(\u001b[0m\u001b[0mfetchDBCredentials\u001b[0m\u001b[1;33m(\u001b[0m\u001b[1;33m)\u001b[0m\u001b[1;33m)\u001b[0m\u001b[1;33m\u001b[0m\u001b[0m\n\u001b[0m",
      "\u001b[1;32mC:\\Users\\smithd2\\AppData\\Local\\Continuum\\Anaconda2\\lib\\site-packages\\psycopg2\\__init__.pyc\u001b[0m in \u001b[0;36mconnect\u001b[1;34m(dsn, database, user, password, host, port, connection_factory, cursor_factory, async, **kwargs)\u001b[0m\n\u001b[0;32m    162\u001b[0m                 for (k, v) in items])\n\u001b[0;32m    163\u001b[0m \u001b[1;33m\u001b[0m\u001b[0m\n\u001b[1;32m--> 164\u001b[1;33m     \u001b[0mconn\u001b[0m \u001b[1;33m=\u001b[0m \u001b[0m_connect\u001b[0m\u001b[1;33m(\u001b[0m\u001b[0mdsn\u001b[0m\u001b[1;33m,\u001b[0m \u001b[0mconnection_factory\u001b[0m\u001b[1;33m=\u001b[0m\u001b[0mconnection_factory\u001b[0m\u001b[1;33m,\u001b[0m \u001b[0masync\u001b[0m\u001b[1;33m=\u001b[0m\u001b[0masync\u001b[0m\u001b[1;33m)\u001b[0m\u001b[1;33m\u001b[0m\u001b[0m\n\u001b[0m\u001b[0;32m    165\u001b[0m     \u001b[1;32mif\u001b[0m \u001b[0mcursor_factory\u001b[0m \u001b[1;32mis\u001b[0m \u001b[1;32mnot\u001b[0m \u001b[0mNone\u001b[0m\u001b[1;33m:\u001b[0m\u001b[1;33m\u001b[0m\u001b[0m\n\u001b[0;32m    166\u001b[0m         \u001b[0mconn\u001b[0m\u001b[1;33m.\u001b[0m\u001b[0mcursor_factory\u001b[0m \u001b[1;33m=\u001b[0m \u001b[0mcursor_factory\u001b[0m\u001b[1;33m\u001b[0m\u001b[0m\n",
      "\u001b[1;31mOperationalError\u001b[0m: FATAL:  no pg_hba.conf entry for host \"10.251.11.10\", user \"fmchawqapp\", database \"fmc_poc\", SSL on\nFATAL:  no pg_hba.conf entry for host \"10.251.11.10\", user \"fmchawqapp\", database \"fmc_poc\", SSL off\n"
     ]
    }
   ],
   "source": [
    "# HAWQ Connection\n",
    "USER_CRED_FILE = os.path.join(os.path.expanduser('~'), '.dslab_user.cred')\n",
    "\n",
    "def fetchDBCredentials(dbcred_file=USER_CRED_FILE):\n",
    "    \"\"\"\n",
    "       Read database access credentials from the file in $HOME/.ipynb_dslab.cred\n",
    "    \"\"\"\n",
    "    #Read database credentials from user supplied file\n",
    "    conf = ConfigParser.ConfigParser()\n",
    "    conf.read(dbcred_file)\n",
    "    #host, port, user, database, password\n",
    "    host = conf.get('database_creds','host')\n",
    "    port = conf.get('database_creds','port')\n",
    "    user = conf.get('database_creds','user')\n",
    "    database = conf.get('database_creds','database')\n",
    "    password = conf.get('database_creds','password')\n",
    "\n",
    "    #Initialize connection string\n",
    "    conn_str =  \"\"\"dbname='{database}' user='{user}' host='{host}' port='{port}' password='{password}'\"\"\".format(                       \n",
    "                    database=database,\n",
    "                    host=host,\n",
    "                    port=port,\n",
    "                    user=user,\n",
    "                    password=password\n",
    "            )\n",
    "    return conn_str\n",
    "\n",
    "conn = psycopg2.connect(fetchDBCredentials())\n"
   ]
  },
  {
   "cell_type": "code",
   "execution_count": 30,
   "metadata": {
    "collapsed": false
   },
   "outputs": [],
   "source": [
    "#HANA Connection\n",
    "HANA_CRED_FILE = os.path.join(os.path.expanduser('~'), '.hana.cred')\n",
    "\n",
    "def fetchHanaConnection(dbcred_file=HANA_CRED_FILE):\n",
    "    \"\"\"\n",
    "       Read database access credentials from the file in $HOME/.ipynb_dslab.cred\n",
    "    \"\"\"\n",
    "    #Read database credentials from user supplied file\n",
    "    conf = ConfigParser.ConfigParser()\n",
    "    conf.read(dbcred_file)\n",
    "    #host, port, user, database, password\n",
    "    host = conf.get('database_creds','host')\n",
    "    port = conf.get('database_creds','port')\n",
    "    user = conf.get('database_creds','user')\n",
    "    database = conf.get('database_creds','database')\n",
    "    password = conf.get('database_creds','password')\n",
    "    conn = pyhdb.connect(host=host, port=port, user=user, password=password)\n",
    "       \n",
    "    return conn\n",
    "      \n",
    "hconn = fetchHanaConnection()\n"
   ]
  },
  {
   "cell_type": "markdown",
   "metadata": {},
   "source": [
    "Register SQL MAGICS"
   ]
  },
  {
   "cell_type": "code",
   "execution_count": 31,
   "metadata": {
    "collapsed": true
   },
   "outputs": [],
   "source": [
    "from IPython.core.magic import (register_line_magic, register_cell_magic,\n",
    "                                register_line_cell_magic)\n",
    "\n",
    "@register_cell_magic\n",
    "def showsql(line, cell):\n",
    "    \"\"\"\n",
    "        Extract the code in the specific cell (should be valid SQL), and execute\n",
    "        it using the connection object to the backend database. \n",
    "        The resulting Pandas dataframe\n",
    "        is rendered inline below the cell using IPython.display.\n",
    "        You'd use this for SELECT\n",
    "    \"\"\"\n",
    "    #Use the global connection object defined above.\n",
    "    global conn\n",
    "    _ = psql.read_sql(cell, conn)\n",
    "    conn.commit()\n",
    "    display(_)\n",
    "    return\n",
    "    \n",
    "@register_cell_magic\n",
    "def execsql(line, cell):\n",
    "    \"\"\"\n",
    "        Extract the code in the specific cell (should be valid SQL), and execute\n",
    "        it using the connection object to the backend database. \n",
    "        You'd use this for CREATE/UPDATE/DELETE\n",
    "    \"\"\"\n",
    "    #Use the global connection object defined above.\n",
    "    global conn\n",
    "    _ = psql.execute(cell, conn)\n",
    "    conn.commit()\n",
    "    return\n",
    "\n",
    "\n",
    "@register_cell_magic\n",
    "def hshowsql(line, cell):\n",
    "    \"\"\"\n",
    "        Extract the code in the specific cell (should be valid SQL), and execute\n",
    "        it using the connection object to the backend database. \n",
    "        The resulting Pandas dataframe\n",
    "        is rendered inline below the cell using IPython.display.\n",
    "        You'd use this for SELECT\n",
    "    \"\"\"\n",
    "    #Use the global connection object defined above.\n",
    "    global hconn\n",
    "    _ = psql.read_sql(cell, hconn)\n",
    "    hconn.commit()\n",
    "    display(_)\n",
    "    return\n",
    "   \n",
    "# We delete these to avoid name conflicts for automagic to work\n",
    "del execsql, showsql, hshowsql\n"
   ]
  },
  {
   "cell_type": "markdown",
   "metadata": {},
   "source": [
    "Test HANA Connection"
   ]
  },
  {
   "cell_type": "markdown",
   "metadata": {
    "collapsed": false
   },
   "source": [
    "%%time\n",
    "%%hshowsql\n",
    "select * from SAPSR3.\"/BIC/AZPP_S0900\" limit 10"
   ]
  },
  {
   "cell_type": "markdown",
   "metadata": {},
   "source": [
    "Test your connection to the database\n",
    "Using the showsql magic command we defined above\n"
   ]
  },
  {
   "cell_type": "markdown",
   "metadata": {
    "collapsed": true
   },
   "source": [
    "## Test your connection to the HAWQ database"
   ]
  },
  {
   "cell_type": "markdown",
   "metadata": {
    "collapsed": false
   },
   "source": [
    "conn = psycopg2.connect(fetchDBCredentials())\n",
    "psql.execute(\"set role pivotal_fmc_poc_dba\",conn)\n",
    "conn.commit()\n",
    "df = psql.read_sql(\"\"\"select random() as x, random() as y from generate_series(1, 10) q;\"\"\", conn)\n",
    "df.head()"
   ]
  },
  {
   "cell_type": "markdown",
   "metadata": {
    "collapsed": false
   },
   "source": [
    "%%showsql\n",
    "select\n",
    "    random() as x,\n",
    "    random() as y\n",
    "from\n",
    "    generate_series(1, 6);"
   ]
  },
  {
   "cell_type": "markdown",
   "metadata": {},
   "source": [
    "If you see an HTML table with 3 columns and 5 rows above, your connection to the database was successful. "
   ]
  },
  {
   "cell_type": "markdown",
   "metadata": {},
   "source": [
    "##Opening Connections to Multiple Clusters"
   ]
  },
  {
   "cell_type": "markdown",
   "metadata": {},
   "source": [
    "If you want to open multiple connections (say one for GPDB and for your HAWQ cluster), you can create another file similar to `~/.dslab_user.cred`, populate the appropriate credentials, and supply this file as input to the `fetchDBCredentials()` function shown above.\n",
    "\n",
    "For instance, let's say you created another file `~/.dslab_user.cred.gpdb` containing the appropriate credentials to connect to your GPDB cluster, then you can open a connection to this cluster with psycopg2 as follows:\n",
    "```\n",
    "db_cred_file_gpdb = os.path.join(os.path.expanduser('~'), '.dslab_user.cred.gpdb')\n",
    "conn_gpdb = psycopg2.connect(fetchDBCredentials(db_cred_file_gpdb))\n",
    "df = psql.read_sql(\"\"\"select random() as x, random() as y from generate_series(1, 10) q;\"\"\", conn_gpdb)\n",
    "df.head()\n",
    "```\n",
    "For all subsequent instance where you want to query the data on GPDB, you can use `conn_gpdb` in place of `conn` in your code."
   ]
  },
  {
   "cell_type": "code",
   "execution_count": null,
   "metadata": {
    "collapsed": true
   },
   "outputs": [],
   "source": [
    "%%execsql\n",
    "set statement_timeout = 360000000; --100 hours"
   ]
  },
  {
   "cell_type": "code",
   "execution_count": null,
   "metadata": {
    "collapsed": true
   },
   "outputs": [],
   "source": [
    "psql.execute(\"set role pivotal_fmc_poc_dba;\", conn)"
   ]
  }
 ],
 "metadata": {
  "kernelspec": {
   "display_name": "Python 2",
   "language": "python",
   "name": "python2"
  },
  "language_info": {
   "codemirror_mode": {
    "name": "ipython",
    "version": 2
   },
   "file_extension": ".py",
   "mimetype": "text/x-python",
   "name": "python",
   "nbconvert_exporter": "python",
   "pygments_lexer": "ipython2",
   "version": "2.7.11"
  }
 },
 "nbformat": 4,
 "nbformat_minor": 0
}
